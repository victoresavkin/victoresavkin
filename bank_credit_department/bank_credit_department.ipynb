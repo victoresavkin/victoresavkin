{
 "cells": [
  {
   "cell_type": "markdown",
   "id": "5274092b-6988-4577-9cbe-9d6c83dce30c",
   "metadata": {},
   "source": [
    "# Этап 1. Предобработка данных"
   ]
  },
  {
   "cell_type": "markdown",
   "id": "59c1db94-7ca9-414d-8ce3-a9482deb7929",
   "metadata": {},
   "source": [
    "## 1.1. Ознакомление с данными"
   ]
  },
  {
   "cell_type": "markdown",
   "id": "807aee66-ff98-4dd3-a3fb-687d0f5b2f27",
   "metadata": {},
   "source": [
    "Импортируем библиотеку Pandas, считаем данные из csv-файла в датафрейм и сохраним в переменную `data`.\n",
    "Для первичного ознакомления с данными выведем первые 20 строк датафрейма `data` на экран."
   ]
  },
  {
   "cell_type": "code",
   "execution_count": 1,
   "id": "ad27bbd1-12a1-44b9-b217-7f691ac525be",
   "metadata": {},
   "outputs": [
    {
     "data": {
      "text/html": [
       "<div>\n",
       "<style scoped>\n",
       "    .dataframe tbody tr th:only-of-type {\n",
       "        vertical-align: middle;\n",
       "    }\n",
       "\n",
       "    .dataframe tbody tr th {\n",
       "        vertical-align: top;\n",
       "    }\n",
       "\n",
       "    .dataframe thead th {\n",
       "        text-align: right;\n",
       "    }\n",
       "</style>\n",
       "<table border=\"1\" class=\"dataframe\">\n",
       "  <thead>\n",
       "    <tr style=\"text-align: right;\">\n",
       "      <th></th>\n",
       "      <th>children</th>\n",
       "      <th>days_employed</th>\n",
       "      <th>dob_years</th>\n",
       "      <th>education</th>\n",
       "      <th>education_id</th>\n",
       "      <th>family_status</th>\n",
       "      <th>family_status_id</th>\n",
       "      <th>gender</th>\n",
       "      <th>income_type</th>\n",
       "      <th>debt</th>\n",
       "      <th>total_income</th>\n",
       "      <th>purpose</th>\n",
       "    </tr>\n",
       "  </thead>\n",
       "  <tbody>\n",
       "    <tr>\n",
       "      <th>0</th>\n",
       "      <td>1</td>\n",
       "      <td>-8437.673028</td>\n",
       "      <td>42</td>\n",
       "      <td>высшее</td>\n",
       "      <td>0</td>\n",
       "      <td>женат / замужем</td>\n",
       "      <td>0</td>\n",
       "      <td>F</td>\n",
       "      <td>сотрудник</td>\n",
       "      <td>0</td>\n",
       "      <td>253875.639453</td>\n",
       "      <td>покупка жилья</td>\n",
       "    </tr>\n",
       "    <tr>\n",
       "      <th>1</th>\n",
       "      <td>1</td>\n",
       "      <td>-4024.803754</td>\n",
       "      <td>36</td>\n",
       "      <td>среднее</td>\n",
       "      <td>1</td>\n",
       "      <td>женат / замужем</td>\n",
       "      <td>0</td>\n",
       "      <td>F</td>\n",
       "      <td>сотрудник</td>\n",
       "      <td>0</td>\n",
       "      <td>112080.014102</td>\n",
       "      <td>приобретение автомобиля</td>\n",
       "    </tr>\n",
       "    <tr>\n",
       "      <th>2</th>\n",
       "      <td>0</td>\n",
       "      <td>-5623.422610</td>\n",
       "      <td>33</td>\n",
       "      <td>Среднее</td>\n",
       "      <td>1</td>\n",
       "      <td>женат / замужем</td>\n",
       "      <td>0</td>\n",
       "      <td>M</td>\n",
       "      <td>сотрудник</td>\n",
       "      <td>0</td>\n",
       "      <td>145885.952297</td>\n",
       "      <td>покупка жилья</td>\n",
       "    </tr>\n",
       "    <tr>\n",
       "      <th>3</th>\n",
       "      <td>3</td>\n",
       "      <td>-4124.747207</td>\n",
       "      <td>32</td>\n",
       "      <td>среднее</td>\n",
       "      <td>1</td>\n",
       "      <td>женат / замужем</td>\n",
       "      <td>0</td>\n",
       "      <td>M</td>\n",
       "      <td>сотрудник</td>\n",
       "      <td>0</td>\n",
       "      <td>267628.550329</td>\n",
       "      <td>дополнительное образование</td>\n",
       "    </tr>\n",
       "    <tr>\n",
       "      <th>4</th>\n",
       "      <td>0</td>\n",
       "      <td>340266.072047</td>\n",
       "      <td>53</td>\n",
       "      <td>среднее</td>\n",
       "      <td>1</td>\n",
       "      <td>гражданский брак</td>\n",
       "      <td>1</td>\n",
       "      <td>F</td>\n",
       "      <td>пенсионер</td>\n",
       "      <td>0</td>\n",
       "      <td>158616.077870</td>\n",
       "      <td>сыграть свадьбу</td>\n",
       "    </tr>\n",
       "    <tr>\n",
       "      <th>5</th>\n",
       "      <td>0</td>\n",
       "      <td>-926.185831</td>\n",
       "      <td>27</td>\n",
       "      <td>высшее</td>\n",
       "      <td>0</td>\n",
       "      <td>гражданский брак</td>\n",
       "      <td>1</td>\n",
       "      <td>M</td>\n",
       "      <td>компаньон</td>\n",
       "      <td>0</td>\n",
       "      <td>255763.565419</td>\n",
       "      <td>покупка жилья</td>\n",
       "    </tr>\n",
       "    <tr>\n",
       "      <th>6</th>\n",
       "      <td>0</td>\n",
       "      <td>-2879.202052</td>\n",
       "      <td>43</td>\n",
       "      <td>высшее</td>\n",
       "      <td>0</td>\n",
       "      <td>женат / замужем</td>\n",
       "      <td>0</td>\n",
       "      <td>F</td>\n",
       "      <td>компаньон</td>\n",
       "      <td>0</td>\n",
       "      <td>240525.971920</td>\n",
       "      <td>операции с жильем</td>\n",
       "    </tr>\n",
       "    <tr>\n",
       "      <th>7</th>\n",
       "      <td>0</td>\n",
       "      <td>-152.779569</td>\n",
       "      <td>50</td>\n",
       "      <td>СРЕДНЕЕ</td>\n",
       "      <td>1</td>\n",
       "      <td>женат / замужем</td>\n",
       "      <td>0</td>\n",
       "      <td>M</td>\n",
       "      <td>сотрудник</td>\n",
       "      <td>0</td>\n",
       "      <td>135823.934197</td>\n",
       "      <td>образование</td>\n",
       "    </tr>\n",
       "    <tr>\n",
       "      <th>8</th>\n",
       "      <td>2</td>\n",
       "      <td>-6929.865299</td>\n",
       "      <td>35</td>\n",
       "      <td>ВЫСШЕЕ</td>\n",
       "      <td>0</td>\n",
       "      <td>гражданский брак</td>\n",
       "      <td>1</td>\n",
       "      <td>F</td>\n",
       "      <td>сотрудник</td>\n",
       "      <td>0</td>\n",
       "      <td>95856.832424</td>\n",
       "      <td>на проведение свадьбы</td>\n",
       "    </tr>\n",
       "    <tr>\n",
       "      <th>9</th>\n",
       "      <td>0</td>\n",
       "      <td>-2188.756445</td>\n",
       "      <td>41</td>\n",
       "      <td>среднее</td>\n",
       "      <td>1</td>\n",
       "      <td>женат / замужем</td>\n",
       "      <td>0</td>\n",
       "      <td>M</td>\n",
       "      <td>сотрудник</td>\n",
       "      <td>0</td>\n",
       "      <td>144425.938277</td>\n",
       "      <td>покупка жилья для семьи</td>\n",
       "    </tr>\n",
       "    <tr>\n",
       "      <th>10</th>\n",
       "      <td>2</td>\n",
       "      <td>-4171.483647</td>\n",
       "      <td>36</td>\n",
       "      <td>высшее</td>\n",
       "      <td>0</td>\n",
       "      <td>женат / замужем</td>\n",
       "      <td>0</td>\n",
       "      <td>M</td>\n",
       "      <td>компаньон</td>\n",
       "      <td>0</td>\n",
       "      <td>113943.491460</td>\n",
       "      <td>покупка недвижимости</td>\n",
       "    </tr>\n",
       "    <tr>\n",
       "      <th>11</th>\n",
       "      <td>0</td>\n",
       "      <td>-792.701887</td>\n",
       "      <td>40</td>\n",
       "      <td>среднее</td>\n",
       "      <td>1</td>\n",
       "      <td>женат / замужем</td>\n",
       "      <td>0</td>\n",
       "      <td>F</td>\n",
       "      <td>сотрудник</td>\n",
       "      <td>0</td>\n",
       "      <td>77069.234271</td>\n",
       "      <td>покупка коммерческой недвижимости</td>\n",
       "    </tr>\n",
       "    <tr>\n",
       "      <th>12</th>\n",
       "      <td>0</td>\n",
       "      <td>NaN</td>\n",
       "      <td>65</td>\n",
       "      <td>среднее</td>\n",
       "      <td>1</td>\n",
       "      <td>гражданский брак</td>\n",
       "      <td>1</td>\n",
       "      <td>M</td>\n",
       "      <td>пенсионер</td>\n",
       "      <td>0</td>\n",
       "      <td>NaN</td>\n",
       "      <td>сыграть свадьбу</td>\n",
       "    </tr>\n",
       "    <tr>\n",
       "      <th>13</th>\n",
       "      <td>0</td>\n",
       "      <td>-1846.641941</td>\n",
       "      <td>54</td>\n",
       "      <td>неоконченное высшее</td>\n",
       "      <td>2</td>\n",
       "      <td>женат / замужем</td>\n",
       "      <td>0</td>\n",
       "      <td>F</td>\n",
       "      <td>сотрудник</td>\n",
       "      <td>0</td>\n",
       "      <td>130458.228857</td>\n",
       "      <td>приобретение автомобиля</td>\n",
       "    </tr>\n",
       "    <tr>\n",
       "      <th>14</th>\n",
       "      <td>0</td>\n",
       "      <td>-1844.956182</td>\n",
       "      <td>56</td>\n",
       "      <td>высшее</td>\n",
       "      <td>0</td>\n",
       "      <td>гражданский брак</td>\n",
       "      <td>1</td>\n",
       "      <td>F</td>\n",
       "      <td>компаньон</td>\n",
       "      <td>1</td>\n",
       "      <td>165127.911772</td>\n",
       "      <td>покупка жилой недвижимости</td>\n",
       "    </tr>\n",
       "    <tr>\n",
       "      <th>15</th>\n",
       "      <td>1</td>\n",
       "      <td>-972.364419</td>\n",
       "      <td>26</td>\n",
       "      <td>среднее</td>\n",
       "      <td>1</td>\n",
       "      <td>женат / замужем</td>\n",
       "      <td>0</td>\n",
       "      <td>F</td>\n",
       "      <td>сотрудник</td>\n",
       "      <td>0</td>\n",
       "      <td>116820.904450</td>\n",
       "      <td>строительство собственной недвижимости</td>\n",
       "    </tr>\n",
       "    <tr>\n",
       "      <th>16</th>\n",
       "      <td>0</td>\n",
       "      <td>-1719.934226</td>\n",
       "      <td>35</td>\n",
       "      <td>среднее</td>\n",
       "      <td>1</td>\n",
       "      <td>женат / замужем</td>\n",
       "      <td>0</td>\n",
       "      <td>F</td>\n",
       "      <td>сотрудник</td>\n",
       "      <td>0</td>\n",
       "      <td>289202.704229</td>\n",
       "      <td>недвижимость</td>\n",
       "    </tr>\n",
       "    <tr>\n",
       "      <th>17</th>\n",
       "      <td>0</td>\n",
       "      <td>-2369.999720</td>\n",
       "      <td>33</td>\n",
       "      <td>высшее</td>\n",
       "      <td>0</td>\n",
       "      <td>гражданский брак</td>\n",
       "      <td>1</td>\n",
       "      <td>M</td>\n",
       "      <td>сотрудник</td>\n",
       "      <td>0</td>\n",
       "      <td>90410.586745</td>\n",
       "      <td>строительство недвижимости</td>\n",
       "    </tr>\n",
       "    <tr>\n",
       "      <th>18</th>\n",
       "      <td>0</td>\n",
       "      <td>400281.136913</td>\n",
       "      <td>53</td>\n",
       "      <td>среднее</td>\n",
       "      <td>1</td>\n",
       "      <td>вдовец / вдова</td>\n",
       "      <td>2</td>\n",
       "      <td>F</td>\n",
       "      <td>пенсионер</td>\n",
       "      <td>0</td>\n",
       "      <td>56823.777243</td>\n",
       "      <td>на покупку подержанного автомобиля</td>\n",
       "    </tr>\n",
       "    <tr>\n",
       "      <th>19</th>\n",
       "      <td>0</td>\n",
       "      <td>-10038.818549</td>\n",
       "      <td>48</td>\n",
       "      <td>СРЕДНЕЕ</td>\n",
       "      <td>1</td>\n",
       "      <td>в разводе</td>\n",
       "      <td>3</td>\n",
       "      <td>F</td>\n",
       "      <td>сотрудник</td>\n",
       "      <td>0</td>\n",
       "      <td>242831.107982</td>\n",
       "      <td>на покупку своего автомобиля</td>\n",
       "    </tr>\n",
       "  </tbody>\n",
       "</table>\n",
       "</div>"
      ],
      "text/plain": [
       "    children  days_employed  dob_years            education  education_id  \\\n",
       "0          1   -8437.673028         42               высшее             0   \n",
       "1          1   -4024.803754         36              среднее             1   \n",
       "2          0   -5623.422610         33              Среднее             1   \n",
       "3          3   -4124.747207         32              среднее             1   \n",
       "4          0  340266.072047         53              среднее             1   \n",
       "5          0    -926.185831         27               высшее             0   \n",
       "6          0   -2879.202052         43               высшее             0   \n",
       "7          0    -152.779569         50              СРЕДНЕЕ             1   \n",
       "8          2   -6929.865299         35               ВЫСШЕЕ             0   \n",
       "9          0   -2188.756445         41              среднее             1   \n",
       "10         2   -4171.483647         36               высшее             0   \n",
       "11         0    -792.701887         40              среднее             1   \n",
       "12         0            NaN         65              среднее             1   \n",
       "13         0   -1846.641941         54  неоконченное высшее             2   \n",
       "14         0   -1844.956182         56               высшее             0   \n",
       "15         1    -972.364419         26              среднее             1   \n",
       "16         0   -1719.934226         35              среднее             1   \n",
       "17         0   -2369.999720         33               высшее             0   \n",
       "18         0  400281.136913         53              среднее             1   \n",
       "19         0  -10038.818549         48              СРЕДНЕЕ             1   \n",
       "\n",
       "       family_status  family_status_id gender income_type  debt  \\\n",
       "0    женат / замужем                 0      F   сотрудник     0   \n",
       "1    женат / замужем                 0      F   сотрудник     0   \n",
       "2    женат / замужем                 0      M   сотрудник     0   \n",
       "3    женат / замужем                 0      M   сотрудник     0   \n",
       "4   гражданский брак                 1      F   пенсионер     0   \n",
       "5   гражданский брак                 1      M   компаньон     0   \n",
       "6    женат / замужем                 0      F   компаньон     0   \n",
       "7    женат / замужем                 0      M   сотрудник     0   \n",
       "8   гражданский брак                 1      F   сотрудник     0   \n",
       "9    женат / замужем                 0      M   сотрудник     0   \n",
       "10   женат / замужем                 0      M   компаньон     0   \n",
       "11   женат / замужем                 0      F   сотрудник     0   \n",
       "12  гражданский брак                 1      M   пенсионер     0   \n",
       "13   женат / замужем                 0      F   сотрудник     0   \n",
       "14  гражданский брак                 1      F   компаньон     1   \n",
       "15   женат / замужем                 0      F   сотрудник     0   \n",
       "16   женат / замужем                 0      F   сотрудник     0   \n",
       "17  гражданский брак                 1      M   сотрудник     0   \n",
       "18    вдовец / вдова                 2      F   пенсионер     0   \n",
       "19         в разводе                 3      F   сотрудник     0   \n",
       "\n",
       "     total_income                                 purpose  \n",
       "0   253875.639453                           покупка жилья  \n",
       "1   112080.014102                 приобретение автомобиля  \n",
       "2   145885.952297                           покупка жилья  \n",
       "3   267628.550329              дополнительное образование  \n",
       "4   158616.077870                         сыграть свадьбу  \n",
       "5   255763.565419                           покупка жилья  \n",
       "6   240525.971920                       операции с жильем  \n",
       "7   135823.934197                             образование  \n",
       "8    95856.832424                   на проведение свадьбы  \n",
       "9   144425.938277                 покупка жилья для семьи  \n",
       "10  113943.491460                    покупка недвижимости  \n",
       "11   77069.234271       покупка коммерческой недвижимости  \n",
       "12            NaN                         сыграть свадьбу  \n",
       "13  130458.228857                 приобретение автомобиля  \n",
       "14  165127.911772              покупка жилой недвижимости  \n",
       "15  116820.904450  строительство собственной недвижимости  \n",
       "16  289202.704229                            недвижимость  \n",
       "17   90410.586745              строительство недвижимости  \n",
       "18   56823.777243      на покупку подержанного автомобиля  \n",
       "19  242831.107982            на покупку своего автомобиля  "
      ]
     },
     "execution_count": 1,
     "metadata": {},
     "output_type": "execute_result"
    }
   ],
   "source": [
    "import pandas as pd\n",
    "\n",
    "data = pd.read_csv('/Users/victoresavkin/Downloads/bank_credit_department.csv')\n",
    "\n",
    "data.head(20)"
   ]
  },
  {
   "cell_type": "markdown",
   "id": "ecab21dc-a0cb-406a-b0ca-68cae89e0736",
   "metadata": {},
   "source": [
    "Выводим основную информацию о датафрейме с помощью метода `info()`."
   ]
  },
  {
   "cell_type": "code",
   "execution_count": 2,
   "id": "5023b041-71a6-4937-af4d-6884a5b09fe1",
   "metadata": {},
   "outputs": [
    {
     "name": "stdout",
     "output_type": "stream",
     "text": [
      "<class 'pandas.core.frame.DataFrame'>\n",
      "RangeIndex: 21525 entries, 0 to 21524\n",
      "Data columns (total 12 columns):\n",
      " #   Column            Non-Null Count  Dtype  \n",
      "---  ------            --------------  -----  \n",
      " 0   children          21525 non-null  int64  \n",
      " 1   days_employed     19351 non-null  float64\n",
      " 2   dob_years         21525 non-null  int64  \n",
      " 3   education         21525 non-null  object \n",
      " 4   education_id      21525 non-null  int64  \n",
      " 5   family_status     21525 non-null  object \n",
      " 6   family_status_id  21525 non-null  int64  \n",
      " 7   gender            21525 non-null  object \n",
      " 8   income_type       21525 non-null  object \n",
      " 9   debt              21525 non-null  int64  \n",
      " 10  total_income      19351 non-null  float64\n",
      " 11  purpose           21525 non-null  object \n",
      "dtypes: float64(2), int64(5), object(5)\n",
      "memory usage: 2.0+ MB\n"
     ]
    }
   ],
   "source": [
    "data.info()"
   ]
  },
  {
   "cell_type": "markdown",
   "id": "e3822d72-2def-40fb-be49-e5ee71a26486",
   "metadata": {},
   "source": [
    "## 1.2. Удаление пропусков"
   ]
  },
  {
   "cell_type": "markdown",
   "id": "90f54e2a-8d2c-4d83-a5b9-351707f7bc5b",
   "metadata": {},
   "source": [
    "Выведем количество пропущенных значений для каждого столбца, используя комбинацию двух методов - `isna()` и `sum()`."
   ]
  },
  {
   "cell_type": "code",
   "execution_count": 3,
   "id": "491751ac-6fd4-429d-abe6-9d7115216252",
   "metadata": {},
   "outputs": [
    {
     "data": {
      "text/plain": [
       "children               0\n",
       "days_employed       2174\n",
       "dob_years              0\n",
       "education              0\n",
       "education_id           0\n",
       "family_status          0\n",
       "family_status_id       0\n",
       "gender                 0\n",
       "income_type            0\n",
       "debt                   0\n",
       "total_income        2174\n",
       "purpose                0\n",
       "dtype: int64"
      ]
     },
     "execution_count": 3,
     "metadata": {},
     "output_type": "execute_result"
    }
   ],
   "source": [
    "data.isna().sum()"
   ]
  },
  {
   "cell_type": "markdown",
   "id": "fa7ca45b-26da-4ce2-b408-cc5c2b2dfd97",
   "metadata": {},
   "source": [
    "В двух столбцах есть пропущенные значения. Один из них — `days_employed`. Пропуски в этом столбце будут обработаны на следующем этапе. Другой столбец с пропущенными значениями — `total_income` — хранит данные о доходах. На сумму дохода сильнее всего влияет тип занятости, поэтому заполнить пропуски в этом столбце нужно медианным значением по каждому типу из столбца `income_type`. Например, у человека с типом занятости `сотрудник` пропуск в столбце `total_income` заполним медианным доходом среди всех записей с тем же типом."
   ]
  },
  {
   "cell_type": "code",
   "execution_count": 4,
   "id": "36220e2e-2075-434d-8be0-df8663fe8cc2",
   "metadata": {},
   "outputs": [],
   "source": [
    "for t in data['income_type'].unique():\n",
    "    data.loc[(data['income_type'] == t) & (data['total_income'].isna()), 'total_income'] = \\\n",
    "    data.loc[(data['income_type'] == t), 'total_income'].median()"
   ]
  },
  {
   "cell_type": "markdown",
   "id": "12d19c6c-9910-4e8e-996a-aa709110c6b7",
   "metadata": {},
   "source": [
    "## 1.3. Обработка аномальных значений"
   ]
  },
  {
   "cell_type": "markdown",
   "id": "8bbb2e20-8d1f-484b-a1f4-cd872957eea8",
   "metadata": {},
   "source": [
    "В столбце `days_employed` помимо пропусков встречаются также артефакты (аномалии) - значения, которые не отражают действительность и появились по какой-то ошибке, в данном случае отрицательное количество дней трудового стажа. Обработаем значения в этом столбце: заменим все отрицательные значения положительными с помощью метода `abs()`."
   ]
  },
  {
   "cell_type": "code",
   "execution_count": 5,
   "id": "ed3b43ad-7103-463b-89b0-aaf0e38657f2",
   "metadata": {},
   "outputs": [],
   "source": [
    "data['days_employed'] = data['days_employed'].abs()"
   ]
  },
  {
   "cell_type": "markdown",
   "id": "13f57264-aafa-45a8-9bc2-1685ece95dae",
   "metadata": {},
   "source": [
    "Для каждого типа занятости выведем медианное значение трудового стажа `days_employed` в днях."
   ]
  },
  {
   "cell_type": "code",
   "execution_count": 6,
   "id": "fdc19985-3bd6-40f0-af3c-58fd5ef6e81f",
   "metadata": {},
   "outputs": [
    {
     "data": {
      "text/plain": [
       "income_type\n",
       "безработный        366413.652744\n",
       "в декрете            3296.759962\n",
       "госслужащий          2689.368353\n",
       "компаньон            1547.382223\n",
       "пенсионер          365213.306266\n",
       "предприниматель       520.848083\n",
       "сотрудник            1574.202821\n",
       "студент               578.751554\n",
       "Name: days_employed, dtype: float64"
      ]
     },
     "execution_count": 6,
     "metadata": {},
     "output_type": "execute_result"
    }
   ],
   "source": [
    "data.groupby('income_type')['days_employed'].agg('median')"
   ]
  },
  {
   "cell_type": "markdown",
   "id": "2b523bb5-6f85-4d38-a36a-1a1d6e3b4ca6",
   "metadata": {},
   "source": [
    "У двух типов (безработные и пенсионеры) получатся аномально большие значения. Исправить такие значения сложно, поэтому оставим их как есть."
   ]
  },
  {
   "cell_type": "markdown",
   "id": "654f7e6c-e3fd-42d4-846f-c12f94e45821",
   "metadata": {},
   "source": [
    "Выведем перечень уникальных значений столбца `children`."
   ]
  },
  {
   "cell_type": "code",
   "execution_count": 7,
   "id": "e911edf9-dac3-4d0d-8eeb-2f677f926e91",
   "metadata": {},
   "outputs": [
    {
     "data": {
      "text/plain": [
       "array([ 1,  0,  3,  2, -1,  4, 20,  5])"
      ]
     },
     "execution_count": 7,
     "metadata": {},
     "output_type": "execute_result"
    }
   ],
   "source": [
    "data['children'].unique()"
   ]
  },
  {
   "cell_type": "markdown",
   "id": "a9dee542-963e-4eed-b1c1-10d23f0182dd",
   "metadata": {},
   "source": [
    "В столбце `children` есть два аномальных значения: -1 и 20. Удалим строки, в которых встречаются такие значения из датафрейма `data`."
   ]
  },
  {
   "cell_type": "code",
   "execution_count": 8,
   "id": "4fdf8d47-96c2-4aa3-8e1b-e355063ca7fb",
   "metadata": {},
   "outputs": [],
   "source": [
    "data = data[(data['children'] != -1) & (data['children'] != 20)]"
   ]
  },
  {
   "cell_type": "markdown",
   "id": "c6e66e50-7038-4951-817a-6a43ac4e6940",
   "metadata": {},
   "source": [
    "Ещё раз выведем перечень уникальных значений столбца `children`, чтобы убедиться, что артефакты удалены."
   ]
  },
  {
   "cell_type": "code",
   "execution_count": 9,
   "id": "a53b465d-a37d-4e81-8af7-3ca49e83ec90",
   "metadata": {},
   "outputs": [
    {
     "data": {
      "text/plain": [
       "array([1, 0, 3, 2, 4, 5])"
      ]
     },
     "execution_count": 9,
     "metadata": {},
     "output_type": "execute_result"
    }
   ],
   "source": [
    "data['children'].unique()"
   ]
  },
  {
   "cell_type": "markdown",
   "id": "14487f10-ea93-4081-8485-2dc5c9250532",
   "metadata": {},
   "source": [
    "## 1.4. Удаление пропусков (продолжение)"
   ]
  },
  {
   "cell_type": "markdown",
   "id": "aaa66182-2d3f-4555-8105-e2c8f5e1d879",
   "metadata": {},
   "source": [
    "Заполним пропуски в столбце `days_employed` медианными значениями по каждого типа занятости `income_type`."
   ]
  },
  {
   "cell_type": "code",
   "execution_count": 10,
   "id": "aedcec01-9331-4781-bb7a-0aa509f77323",
   "metadata": {},
   "outputs": [],
   "source": [
    "for t in data['income_type'].unique():\n",
    "    data.loc[(data['income_type'] == t) & (data['days_employed'].isna()), 'days_employed'] = \\\n",
    "    data.loc[(data['income_type'] == t), 'days_employed'].median()"
   ]
  },
  {
   "cell_type": "markdown",
   "id": "e633bf27-9eb1-49a4-a515-b2dd48fb17b5",
   "metadata": {},
   "source": [
    "Убедимся, что все пропуски заполнены. Проверим себя и ещё раз выведем количество пропущенных значений для каждого столбца с помощью двух методов - `isna()` и `sum()`."
   ]
  },
  {
   "cell_type": "code",
   "execution_count": 11,
   "id": "ee9ebc2d-12ff-4b78-8bad-4c087c8395d4",
   "metadata": {},
   "outputs": [
    {
     "data": {
      "text/plain": [
       "children            0\n",
       "days_employed       0\n",
       "dob_years           0\n",
       "education           0\n",
       "education_id        0\n",
       "family_status       0\n",
       "family_status_id    0\n",
       "gender              0\n",
       "income_type         0\n",
       "debt                0\n",
       "total_income        0\n",
       "purpose             0\n",
       "dtype: int64"
      ]
     },
     "execution_count": 11,
     "metadata": {},
     "output_type": "execute_result"
    }
   ],
   "source": [
    "data.isna().sum()"
   ]
  },
  {
   "cell_type": "markdown",
   "id": "4c29ae8e-1ea0-4dfa-93d6-604fc60ba9d7",
   "metadata": {},
   "source": [
    "## 1.5. Изменение типов данных"
   ]
  },
  {
   "cell_type": "markdown",
   "id": "f9015e90-60c7-4e20-976c-399b64c84028",
   "metadata": {},
   "source": [
    "Заменим вещественный тип данных в столбце `total_income` на целочисленный с помощью метода `astype()`."
   ]
  },
  {
   "cell_type": "code",
   "execution_count": 12,
   "id": "59e0e5a5-49c4-4341-a748-f7f6de718564",
   "metadata": {},
   "outputs": [],
   "source": [
    "data['total_income'] = data['total_income'].astype(int)"
   ]
  },
  {
   "cell_type": "markdown",
   "id": "5b0ae247-9fc3-417d-a0a0-dcb5a5aab069",
   "metadata": {},
   "source": [
    "## 1.6. Обработка дубликатов"
   ]
  },
  {
   "cell_type": "markdown",
   "id": "4f73733e-2ad6-405b-8c69-ce44ab34d6ab",
   "metadata": {},
   "source": [
    "Обработаем неявные дубликаты в столбце `education`. В этом столбце есть одни и те же значения, но записанные по-разному: с использованием заглавных и строчных букв. Приведем их к нижнему регистру."
   ]
  },
  {
   "cell_type": "code",
   "execution_count": 13,
   "id": "39def77f-995d-4065-a945-428fb1305fb8",
   "metadata": {},
   "outputs": [],
   "source": [
    "data['education'] = data['education'].str.lower()"
   ]
  },
  {
   "cell_type": "markdown",
   "id": "cec6930e-2f12-42c6-99a2-b2efd81b2369",
   "metadata": {},
   "source": [
    "Выведем на экран количество строк-дубликатов в данных. Если такие строки присутствуют, удалим их."
   ]
  },
  {
   "cell_type": "code",
   "execution_count": 14,
   "id": "59884b11-1970-460f-8950-fc4bf5ef86b4",
   "metadata": {},
   "outputs": [
    {
     "data": {
      "text/plain": [
       "71"
      ]
     },
     "execution_count": 14,
     "metadata": {},
     "output_type": "execute_result"
    }
   ],
   "source": [
    "data.duplicated().sum()"
   ]
  },
  {
   "cell_type": "code",
   "execution_count": 15,
   "id": "39796ea2-19fb-44f0-862d-28c3bdf554d8",
   "metadata": {},
   "outputs": [],
   "source": [
    "data = data.drop_duplicates()"
   ]
  },
  {
   "cell_type": "markdown",
   "id": "7ff298c7-ade1-475e-8c5e-feec59ae3fb1",
   "metadata": {},
   "source": [
    "## 1.7. Категоризация данных"
   ]
  },
  {
   "cell_type": "markdown",
   "id": "5ae2c879-5a66-46a1-8730-9cf3d3dac691",
   "metadata": {},
   "source": [
    "#### Уровень дохода"
   ]
  },
  {
   "cell_type": "markdown",
   "id": "32160668-1ba0-4971-a115-41a9ba034a91",
   "metadata": {},
   "source": [
    "На основании диапазонов, указанных ниже, создадим в датафрейме `data` столбец `total_income_category` с категориями:\n",
    "\n",
    "- 0–30000 — `'E'`;\n",
    "- 30001–50000 — `'D'`;\n",
    "- 50001–200000 — `'C'`;\n",
    "- 200001–1000000 — `'B'`;\n",
    "- 1000001 и выше — `'A'`.\n",
    "\n",
    "Используем собственную функцию с именем `categorize_income()` и метод `apply()`."
   ]
  },
  {
   "cell_type": "code",
   "execution_count": 16,
   "id": "0f539008-3fcc-431b-994a-031adfb83c43",
   "metadata": {},
   "outputs": [],
   "source": [
    "def categorize_income(income):\n",
    "    try:\n",
    "        if 0 <= income <= 30000:\n",
    "            return 'E'\n",
    "        elif 30001 <= income <= 50000:\n",
    "            return 'D'\n",
    "        elif 50001 <= income <= 200000:\n",
    "            return 'C'\n",
    "        elif 200001 <= income <= 1000000:\n",
    "            return 'B'\n",
    "        elif income >= 1000001:\n",
    "            return 'A'\n",
    "    except:\n",
    "        pass"
   ]
  },
  {
   "cell_type": "code",
   "execution_count": 17,
   "id": "da9a37d3-6995-4c11-9875-fa5f5529a13c",
   "metadata": {},
   "outputs": [],
   "source": [
    "data['total_income_category'] = data['total_income'].apply(categorize_income)"
   ]
  },
  {
   "cell_type": "markdown",
   "id": "69b2b850-5317-4a09-9d08-14e2ea1d9bb8",
   "metadata": {},
   "source": [
    "#### Цель взятия кредита"
   ]
  },
  {
   "cell_type": "markdown",
   "id": "eef6fa26-60f2-42f8-beaa-4a28b2dd3392",
   "metadata": {},
   "source": [
    "Выведем на экран перечень уникальных целей взятия кредита из столбца `purpose`."
   ]
  },
  {
   "cell_type": "code",
   "execution_count": 18,
   "id": "4dcbc7eb-1d65-495d-ae2d-e5c0ebf34617",
   "metadata": {},
   "outputs": [
    {
     "data": {
      "text/plain": [
       "array(['покупка жилья', 'приобретение автомобиля',\n",
       "       'дополнительное образование', 'сыграть свадьбу',\n",
       "       'операции с жильем', 'образование', 'на проведение свадьбы',\n",
       "       'покупка жилья для семьи', 'покупка недвижимости',\n",
       "       'покупка коммерческой недвижимости', 'покупка жилой недвижимости',\n",
       "       'строительство собственной недвижимости', 'недвижимость',\n",
       "       'строительство недвижимости', 'на покупку подержанного автомобиля',\n",
       "       'на покупку своего автомобиля',\n",
       "       'операции с коммерческой недвижимостью',\n",
       "       'строительство жилой недвижимости', 'жилье',\n",
       "       'операции со своей недвижимостью', 'автомобили',\n",
       "       'заняться образованием', 'сделка с подержанным автомобилем',\n",
       "       'получение образования', 'автомобиль', 'свадьба',\n",
       "       'получение дополнительного образования', 'покупка своего жилья',\n",
       "       'операции с недвижимостью', 'получение высшего образования',\n",
       "       'свой автомобиль', 'сделка с автомобилем',\n",
       "       'профильное образование', 'высшее образование',\n",
       "       'покупка жилья для сдачи', 'на покупку автомобиля', 'ремонт жилью',\n",
       "       'заняться высшим образованием'], dtype=object)"
      ]
     },
     "execution_count": 18,
     "metadata": {},
     "output_type": "execute_result"
    }
   ],
   "source": [
    "data['purpose'].unique()"
   ]
  },
  {
   "cell_type": "markdown",
   "id": "d69a3013-9846-40e7-8951-737047edacfd",
   "metadata": {},
   "source": [
    "Создадим функцию, которая на основании данных из столбца `purpose` сформирует новый столбец `purpose_category`, в который войдут следующие категории:\n",
    "\n",
    "- `'операции с автомобилем'`,\n",
    "- `'операции с недвижимостью'`,\n",
    "- `'проведение свадьбы'`,\n",
    "- `'получение образования'`.\n",
    "\n",
    "Например, если в столбце `purpose` находится подстрока `'на покупку автомобиля'`, то в столбце `purpose_category` должна появиться строка `'операции с автомобилем'`.\n",
    "\n",
    "Используем собственную функцию с именем `categorize_purpose()` и метод `apply()`."
   ]
  },
  {
   "cell_type": "code",
   "execution_count": 19,
   "id": "f9e6fe26-78af-427d-8629-9229878fea7f",
   "metadata": {},
   "outputs": [],
   "source": [
    "def categorize_purpose(row):\n",
    "    try:\n",
    "        if 'автом' in row:\n",
    "            return 'операции с автомобилем'\n",
    "        elif 'жил' in row or 'недвиж' in row:\n",
    "            return 'операции с недвижимостью'\n",
    "        elif 'свад' in row:\n",
    "            return 'проведение свадьбы'\n",
    "        elif 'образов' in row:\n",
    "            return 'получение образования'\n",
    "    except:\n",
    "        return 'нет категории'"
   ]
  },
  {
   "cell_type": "code",
   "execution_count": 20,
   "id": "a7304914-8e1b-4632-a24c-643647d5dea1",
   "metadata": {},
   "outputs": [],
   "source": [
    "data['purpose_category'] = data['purpose'].apply(categorize_purpose)"
   ]
  },
  {
   "cell_type": "markdown",
   "id": "0f92dc66-cffe-42d6-b307-403be0802b57",
   "metadata": {},
   "source": [
    "# Этап 2. Исследовательский анализ данных"
   ]
  },
  {
   "cell_type": "markdown",
   "id": "119c81b3-0871-495d-931d-75a178753f2c",
   "metadata": {},
   "source": [
    "## 2.1. Зависимость между количеством детей и возвратом кредита в срок"
   ]
  },
  {
   "cell_type": "markdown",
   "id": "255a75de-be9b-483d-86d9-951213617cc8",
   "metadata": {},
   "source": [
    "Прежде всего, проверим, сколько семей с различным количеством детей представлено в выборке.\n",
    "\n",
    "Для этого воспользуемся методами **`groupby()`** и **`count()`** для столбца **`children`**.\n",
    "\n",
    "Отсортируем полученные данные с помощью метода **`sort_values()`**:"
   ]
  },
  {
   "cell_type": "code",
   "execution_count": 21,
   "id": "97f4f4e8-4348-402d-8b23-7e5323b68cf4",
   "metadata": {},
   "outputs": [
    {
     "data": {
      "text/plain": [
       "children\n",
       "0    14091\n",
       "1     4808\n",
       "2     2052\n",
       "3      330\n",
       "4       41\n",
       "5        9\n",
       "Name: children, dtype: int64"
      ]
     },
     "execution_count": 21,
     "metadata": {},
     "output_type": "execute_result"
    }
   ],
   "source": [
    "data.groupby('children')['children'].count().sort_values(ascending=False)"
   ]
  },
  {
   "cell_type": "markdown",
   "id": "90314cc7-9ab1-4182-a66e-77dc0be14ffe",
   "metadata": {},
   "source": [
    "Обратим внимание на то, что чем больше детей в семье, тем меньше таких семей представлено в выборке.\n",
    "\n",
    "Большую долю заемщиков составляют семьи без детей."
   ]
  },
  {
   "cell_type": "markdown",
   "id": "9c301798-7d4e-4694-95fc-68c7b2755546",
   "metadata": {},
   "source": [
    "Далее нам необходимо изучить непосредственно взаимосвязь между количеством детей в семье и возвратом кредита в срок.\n",
    "\n",
    "В данном случае необходимо воспользоваться информацией из столбцов **`children`** и **`debt`**.\n",
    "\n",
    "Воспользуемся двумя методами - **`groupby()`** и **`sum()`**, а также проведем сортировку методом **`sort_values()`**:"
   ]
  },
  {
   "cell_type": "code",
   "execution_count": 22,
   "id": "8dc2a67e-774b-4df4-8926-7be59e533b12",
   "metadata": {},
   "outputs": [
    {
     "data": {
      "text/plain": [
       "children\n",
       "0    1063\n",
       "1     444\n",
       "2     194\n",
       "3      27\n",
       "4       4\n",
       "5       0\n",
       "Name: debt, dtype: int64"
      ]
     },
     "execution_count": 22,
     "metadata": {},
     "output_type": "execute_result"
    }
   ],
   "source": [
    "data.groupby('children')['debt'].sum().sort_values(ascending=False)"
   ]
  },
  {
   "cell_type": "markdown",
   "id": "12156fcc-21ae-4127-a25e-a009dd4e97a3",
   "metadata": {},
   "source": [
    "На первый взгляд может показаться, что здесь прослеживается четкая обратная зависимость между количеством детей в семье и наличием долга - ведь чем больше детей в семье, тем меньшее количество должников представлено такими семьями.\n",
    "\n",
    "Однако, не стоит забывать о данных, полученных ранее, и вспомнить, что существует обратная зависимость между количеством детей в семье и количеством таких семей в выборке.\n",
    "\n",
    "Поэтому в данном случае необходимо посчитать долю должников в каждой группе семей.\n",
    "\n",
    "Для этого разделим количество семей-должников на общее количество семей с учетом группировки по количеству детей.\n",
    "\n",
    "Для наглядности отсортируем в порядке возрастания доли должников с помощью метода **`sort_values()`**:"
   ]
  },
  {
   "cell_type": "code",
   "execution_count": 23,
   "id": "1ee81753-f867-41a8-b4b9-1540e6cf6da7",
   "metadata": {},
   "outputs": [
    {
     "data": {
      "text/plain": [
       "children\n",
       "5    0.000000\n",
       "0    0.075438\n",
       "3    0.081818\n",
       "1    0.092346\n",
       "2    0.094542\n",
       "4    0.097561\n",
       "dtype: float64"
      ]
     },
     "execution_count": 23,
     "metadata": {},
     "output_type": "execute_result"
    }
   ],
   "source": [
    "# в данном случае создадим переменную для дальнейшей сортировки результатов\n",
    "children_debt = data.groupby('children')['debt'].sum()/data.groupby('children')['children'].count()\n",
    "children_debt.sort_values()"
   ]
  },
  {
   "cell_type": "markdown",
   "id": "4f6ae0b7-3d24-4f98-a6cf-6f0f03110f03",
   "metadata": {},
   "source": [
    "Для более комфортного восприятия полученных результатов представим их в сводной таблице и визуализируем.\n",
    "\n",
    "Для этого напишем функцию **``debt_pivot``**, которая будет принимать на вход датафрейм и признак для группировки. Эта функция подойдет для построения сводных таблиц по каждому фактору.\n",
    "\n",
    "Передадим этой функции датафрейм **``data``** и признак - в данном случае, количество детей **``children``**."
   ]
  },
  {
   "cell_type": "code",
   "execution_count": 24,
   "id": "89e191c6-decb-4728-966c-ba5989c21ab0",
   "metadata": {},
   "outputs": [
    {
     "data": {
      "text/html": [
       "<div>\n",
       "<style scoped>\n",
       "    .dataframe tbody tr th:only-of-type {\n",
       "        vertical-align: middle;\n",
       "    }\n",
       "\n",
       "    .dataframe tbody tr th {\n",
       "        vertical-align: top;\n",
       "    }\n",
       "\n",
       "    .dataframe thead th {\n",
       "        text-align: right;\n",
       "    }\n",
       "</style>\n",
       "<table border=\"1\" class=\"dataframe\">\n",
       "  <thead>\n",
       "    <tr style=\"text-align: right;\">\n",
       "      <th></th>\n",
       "      <th>children</th>\n",
       "      <th>Всего кредитополучателей</th>\n",
       "      <th>Всего должников</th>\n",
       "      <th>Доля должников</th>\n",
       "    </tr>\n",
       "  </thead>\n",
       "  <tbody>\n",
       "    <tr>\n",
       "      <th>4</th>\n",
       "      <td>4</td>\n",
       "      <td>41</td>\n",
       "      <td>4</td>\n",
       "      <td>0.097561</td>\n",
       "    </tr>\n",
       "    <tr>\n",
       "      <th>2</th>\n",
       "      <td>2</td>\n",
       "      <td>2052</td>\n",
       "      <td>194</td>\n",
       "      <td>0.094542</td>\n",
       "    </tr>\n",
       "    <tr>\n",
       "      <th>1</th>\n",
       "      <td>1</td>\n",
       "      <td>4808</td>\n",
       "      <td>444</td>\n",
       "      <td>0.092346</td>\n",
       "    </tr>\n",
       "    <tr>\n",
       "      <th>3</th>\n",
       "      <td>3</td>\n",
       "      <td>330</td>\n",
       "      <td>27</td>\n",
       "      <td>0.081818</td>\n",
       "    </tr>\n",
       "    <tr>\n",
       "      <th>0</th>\n",
       "      <td>0</td>\n",
       "      <td>14091</td>\n",
       "      <td>1063</td>\n",
       "      <td>0.075438</td>\n",
       "    </tr>\n",
       "    <tr>\n",
       "      <th>5</th>\n",
       "      <td>5</td>\n",
       "      <td>9</td>\n",
       "      <td>0</td>\n",
       "      <td>0.000000</td>\n",
       "    </tr>\n",
       "  </tbody>\n",
       "</table>\n",
       "</div>"
      ],
      "text/plain": [
       "   children  Всего кредитополучателей  Всего должников  Доля должников\n",
       "4         4                        41                4        0.097561\n",
       "2         2                      2052              194        0.094542\n",
       "1         1                      4808              444        0.092346\n",
       "3         3                       330               27        0.081818\n",
       "0         0                     14091             1063        0.075438\n",
       "5         5                         9                0        0.000000"
      ]
     },
     "metadata": {},
     "output_type": "display_data"
    },
    {
     "data": {
      "image/png": "[encoded data removed]"
     },
     "metadata": {},
     "output_type": "display_data"
    }
   ],
   "source": [
    "import plotly.express as px\n",
    "\n",
    "def debt_pivot(data, index):\n",
    "    \n",
    "    pivot = data.pivot_table(index = index, values = 'debt', aggfunc = ['count', 'sum', 'mean']).reset_index()\n",
    "    pivot.columns = [index, 'Всего кредитополучателей', 'Всего должников', 'Доля должников']\n",
    "    display(pivot.sort_values('Доля должников', ascending = False))\n",
    "    \n",
    "    fig = px.bar(pivot, x = index, y = 'Доля должников', color = 'Доля должников', title = 'Доля должников по ' + index)\n",
    "    fig.show(\"png\") \n",
    "\n",
    "debt_pivot(data, 'children')"
   ]
  },
  {
   "cell_type": "markdown",
   "id": "10d50f96-ae0a-4015-95e8-57cf0958776b",
   "metadata": {},
   "source": [
    "Как мы можем видеть в сводной таблице и на графике, доля должников в каждой группе семей варьируется в диапазоне от 7.5% до 9.8%.\n",
    "\n",
    "Единственным исключением стали семьи с 5-ю детьми - среди них нет должников, однако в выборке таких семей всего 9, поэтому делать выводы по данной группе семей не представляется возможным.\n",
    "\n",
    "Что касается остальных групп - **четкой обратной или прямой зависимости не прослеживается**, доли колеблются в диапазоне, указанном выше. Единственным моментом, который стоит выделить, является то, что **семьи без детей являются самыми надежными заемщиками**."
   ]
  },
  {
   "cell_type": "markdown",
   "id": "6a59b4e8-1e1c-4050-9039-395170d6da55",
   "metadata": {},
   "source": [
    "Таким образом, наименьшая доля должников среди бездетных семей - 7.5%, далее идут семьи с 3-мя детьми - 8.2%, у остальных групп семей доля превысила 9%. \n",
    "\n",
    "Возможно, при составлении модели кредитного скоринга стоит разделить заемщиков на две группы - 'есть дети' и 'нет детей', т.к. семьи без детей - самые добросовестные заемщики, а доля должников в группах семей с детьми примерно одинаковая (за исключением семей с 3-мя детьми)."
   ]
  },
  {
   "cell_type": "markdown",
   "id": "75625afb-6c82-410a-bbbd-1bcb725d72ed",
   "metadata": {},
   "source": [
    "**Вывод:** \n",
    "\n",
    "Чем больше детей в семье, тем меньше таких семей представлено в выборке. Таким образом, с увеличением *количества* детей в семье, *количество* таких семей-должников уменьшается. Однако, это не позволяет нам говорить о зависимости между количеством детей в семье и возвратом кредита в срок. В связи с этим нами были изучены доли должников в каждой группе семей.\n",
    "\n",
    "Доля должников в каждой группе семей варьируется в диапазоне от 7.5% до 9.8%, **четкой обратной или прямой зависимости возврата долга в срок от количества детей в семье не прослеживается**.\n",
    "\n",
    "При этом важно будет отметить, что среди представленных групп семей **самыми добросовестными заемщиками являются бездетные семьи** (доля должников 7.5%). Вторыми по доле должников являются семьи с 3-мя детьми (8.2%), доля должников среди семей с 1-м, 2-мя и 4-мя детьми превысила 9%. В выборке представлено слишком малое количество семей с 5-ю детьми, поэтому, несмотря на своевременный возврат долга всех таких семей, корректный анализ их кредитоспособности не представляется возможным."
   ]
  },
  {
   "cell_type": "markdown",
   "id": "0f9d1c9b-aea0-46ef-ae7f-d6bb795ed0b5",
   "metadata": {},
   "source": [
    "## 2.2. Зависимость между семейным положением и возвратом кредита в срок"
   ]
  },
  {
   "cell_type": "markdown",
   "id": "29b37e34-44ca-477c-9e3f-6891e7052a01",
   "metadata": {},
   "source": [
    "Прежде всего, проверим, сколько заемщиков с различным семейным положением представлено в выборке.\n",
    "\n",
    "Для этого воспользуемся методами **`groupby()`** и **`count()`** для столбца **`family_status`**, а также проведем сортировку методом **`sort_values()`**:"
   ]
  },
  {
   "cell_type": "code",
   "execution_count": 25,
   "id": "3326cdfe-76fa-4c60-8617-873c5f9003f8",
   "metadata": {},
   "outputs": [
    {
     "data": {
      "text/plain": [
       "family_status\n",
       "женат / замужем          12261\n",
       "гражданский брак          4134\n",
       "Не женат / не замужем     2796\n",
       "в разводе                 1189\n",
       "вдовец / вдова             951\n",
       "Name: family_status, dtype: int64"
      ]
     },
     "execution_count": 25,
     "metadata": {},
     "output_type": "execute_result"
    }
   ],
   "source": [
    "data.groupby('family_status')['family_status'].count().sort_values(ascending=False)"
   ]
  },
  {
   "cell_type": "markdown",
   "id": "30e6dc1c-57c6-4030-a4dc-f10de0e736f6",
   "metadata": {},
   "source": [
    "Наибольшее количество заемщиков женаты/замужем - 12261, в гражданском браке состоят 4134 заемщика, не женаты/не замужем - 2796 заемщиков, меньше всего заемщиков в разводе или вдовцы/вдовы - 1189 и 951 соответственно."
   ]
  },
  {
   "cell_type": "markdown",
   "id": "d9e8d0c7-938f-4f92-a03b-6f4e407baab2",
   "metadata": {},
   "source": [
    "Далее нам необходимо изучить непосредственно взаимосвязь между семейным положением заемщика и возвратом кредита в срок.\n",
    "\n",
    "В данном случае необходимо воспользоваться информацией из столбцов **`family_status`** и **`debt`**.\n",
    "\n",
    "Воспользуемся двумя методами - **`groupby()`** и **`sum()`**, а также проведем сортировку методом **`sort_values()`**:"
   ]
  },
  {
   "cell_type": "code",
   "execution_count": 26,
   "id": "181b8baa-0673-4439-840e-70277d4bf803",
   "metadata": {},
   "outputs": [
    {
     "data": {
      "text/plain": [
       "family_status\n",
       "женат / замужем          927\n",
       "гражданский брак         385\n",
       "Не женат / не замужем    273\n",
       "в разводе                 84\n",
       "вдовец / вдова            63\n",
       "Name: debt, dtype: int64"
      ]
     },
     "execution_count": 26,
     "metadata": {},
     "output_type": "execute_result"
    }
   ],
   "source": [
    "data.groupby('family_status')['debt'].sum().sort_values(ascending=False)"
   ]
  },
  {
   "cell_type": "markdown",
   "id": "58f25b55-5c22-4e76-a50c-a12f77a39a03",
   "metadata": {},
   "source": [
    "Как и в случае с группировкой по количеству детей, снова рассчитаем доли должников в каждой группе.\n",
    "\n",
    "Для этого разделим количество должников на общее количество заемщиков с учетом группировки по семейному положению.\n",
    "\n",
    "Для наглядности отсортируем в порядке возрастания доли должников с помощью метода **`sort_values()`**:"
   ]
  },
  {
   "cell_type": "code",
   "execution_count": 27,
   "id": "dc4a61d2-3498-48d0-979c-58073fb27a3b",
   "metadata": {},
   "outputs": [
    {
     "data": {
      "text/plain": [
       "family_status\n",
       "вдовец / вдова           0.066246\n",
       "в разводе                0.070648\n",
       "женат / замужем          0.075606\n",
       "гражданский брак         0.093130\n",
       "Не женат / не замужем    0.097639\n",
       "dtype: float64"
      ]
     },
     "execution_count": 27,
     "metadata": {},
     "output_type": "execute_result"
    }
   ],
   "source": [
    "# в данном случае создадим переменную для дальнейшей сортировки результатов\n",
    "family_status_debt = data.groupby('family_status')['debt'].sum()/data.groupby('family_status')['family_status'].count()\n",
    "family_status_debt.sort_values()"
   ]
  },
  {
   "cell_type": "markdown",
   "id": "ef48928a-1cf9-47c2-a733-6d6b22c68e39",
   "metadata": {},
   "source": [
    "Для более комфортного восприятия полученных результатов представим их в сводной таблице и визуализируем.\n",
    "\n",
    "Передадим функции **``debt_pivot``** датафрейм **``data``** и признак - в данном случае, семейное положение заемщика **``family_status``**."
   ]
  },
  {
   "cell_type": "code",
   "execution_count": 28,
   "id": "38f47b74-196b-40bb-b0a2-bbd575eaa4ec",
   "metadata": {},
   "outputs": [
    {
     "data": {
      "text/html": [
       "<div>\n",
       "<style scoped>\n",
       "    .dataframe tbody tr th:only-of-type {\n",
       "        vertical-align: middle;\n",
       "    }\n",
       "\n",
       "    .dataframe tbody tr th {\n",
       "        vertical-align: top;\n",
       "    }\n",
       "\n",
       "    .dataframe thead th {\n",
       "        text-align: right;\n",
       "    }\n",
       "</style>\n",
       "<table border=\"1\" class=\"dataframe\">\n",
       "  <thead>\n",
       "    <tr style=\"text-align: right;\">\n",
       "      <th></th>\n",
       "      <th>family_status</th>\n",
       "      <th>Всего кредитополучателей</th>\n",
       "      <th>Всего должников</th>\n",
       "      <th>Доля должников</th>\n",
       "    </tr>\n",
       "  </thead>\n",
       "  <tbody>\n",
       "    <tr>\n",
       "      <th>0</th>\n",
       "      <td>Не женат / не замужем</td>\n",
       "      <td>2796</td>\n",
       "      <td>273</td>\n",
       "      <td>0.097639</td>\n",
       "    </tr>\n",
       "    <tr>\n",
       "      <th>3</th>\n",
       "      <td>гражданский брак</td>\n",
       "      <td>4134</td>\n",
       "      <td>385</td>\n",
       "      <td>0.093130</td>\n",
       "    </tr>\n",
       "    <tr>\n",
       "      <th>4</th>\n",
       "      <td>женат / замужем</td>\n",
       "      <td>12261</td>\n",
       "      <td>927</td>\n",
       "      <td>0.075606</td>\n",
       "    </tr>\n",
       "    <tr>\n",
       "      <th>1</th>\n",
       "      <td>в разводе</td>\n",
       "      <td>1189</td>\n",
       "      <td>84</td>\n",
       "      <td>0.070648</td>\n",
       "    </tr>\n",
       "    <tr>\n",
       "      <th>2</th>\n",
       "      <td>вдовец / вдова</td>\n",
       "      <td>951</td>\n",
       "      <td>63</td>\n",
       "      <td>0.066246</td>\n",
       "    </tr>\n",
       "  </tbody>\n",
       "</table>\n",
       "</div>"
      ],
      "text/plain": [
       "           family_status  Всего кредитополучателей  Всего должников  \\\n",
       "0  Не женат / не замужем                      2796              273   \n",
       "3       гражданский брак                      4134              385   \n",
       "4        женат / замужем                     12261              927   \n",
       "1              в разводе                      1189               84   \n",
       "2         вдовец / вдова                       951               63   \n",
       "\n",
       "   Доля должников  \n",
       "0        0.097639  \n",
       "3        0.093130  \n",
       "4        0.075606  \n",
       "1        0.070648  \n",
       "2        0.066246  "
      ]
     },
     "metadata": {},
     "output_type": "display_data"
    },
    {
     "data": {
      "image/png": "[encoded data removed]"
     },
     "metadata": {},
     "output_type": "display_data"
    }
   ],
   "source": [
    "debt_pivot(data, 'family_status')"
   ]
  },
  {
   "cell_type": "markdown",
   "id": "92640d72-19cc-4190-896b-5f523576ca8f",
   "metadata": {},
   "source": [
    "Лучшими для банка заемщиками оказались вдовцы/вдовы и люди в разводе - их доли составили 6.6% и 7.1% соответственно. Несмотря на то, что в выборке эти категории представлены меньше всего, количество таких заемщиков позволяет учитывать их в общем анализе.\n",
    "\n",
    "Доля должников среди заемщиков, состоящих в официальном браке, составила 7.5%.\n",
    "\n",
    "Наименее надежными заемщиками, оказались люди состоящие в гражданском браке, либо неженатые/незамужние - доли должников среди таких заемщиков гораздо хуже, чем у других групп, и составляют 9.3% и 9.8% соответственно."
   ]
  },
  {
   "cell_type": "markdown",
   "id": "031575b5-924c-4c45-a8ff-60572c3c6641",
   "metadata": {},
   "source": [
    "**Вывод:** \n",
    "\n",
    "**Самые добросовестные заемщики - вдовы/вдовцы (доля должников 6.6%) и люди в разводе (7.1%)**, чуть хуже возвращают долг заемщики, состоящие в официальном браке (7.5%).\n",
    "\n",
    "**Самые ненадежные заемщики - люди, состоящие в гражданском браке (9.3%) и неженатые/незамужние (9.8%).**\n",
    "\n",
    "Таким образом, можно сделать вывод, что **люди, побывавшие в официальном браке, наиболее надежны**. Возможно, существует связь с возрастом, т.к. средний возраст людей, побывавших в официальном браке (вдовцы/вдовы, разведены, сейчас в браке) явно выше, чем средний возраст тех, кто в нем не состоял (неженатые/незамужние, гражданский брак)."
   ]
  },
  {
   "cell_type": "markdown",
   "id": "adcbd009-a1c7-4772-b84a-040c73c085c5",
   "metadata": {},
   "source": [
    "## 2.3. Зависимость между уровнем дохода и возвратом кредита в срок"
   ]
  },
  {
   "cell_type": "markdown",
   "id": "3efbb701-e84b-467c-a47d-cc5367ed1b20",
   "metadata": {},
   "source": [
    "Прежде всего, проверим, сколько заемщиков с различным уровнем дохода представлено в выборке.\n",
    "\n",
    "Для этого воспользуемся методами **`groupby()`** и **`count()`** для столбца **`total_income_category`**, а также проведем сортировку методом **`sort_values()`**:"
   ]
  },
  {
   "cell_type": "code",
   "execution_count": 29,
   "id": "68c3b342-d7bc-4903-866b-a0f6106b058c",
   "metadata": {},
   "outputs": [
    {
     "data": {
      "text/plain": [
       "total_income_category\n",
       "C    15921\n",
       "B     5014\n",
       "D      349\n",
       "A       25\n",
       "E       22\n",
       "Name: total_income_category, dtype: int64"
      ]
     },
     "execution_count": 29,
     "metadata": {},
     "output_type": "execute_result"
    }
   ],
   "source": [
    "data.groupby('total_income_category')['total_income_category'].count().sort_values(ascending=False)"
   ]
  },
  {
   "cell_type": "markdown",
   "id": "876d3d3a-368a-4535-b956-34b630d156bd",
   "metadata": {},
   "source": [
    "Таким образом, основной сегмент заемщиков представлен средней категорией С с доходом от 50 001 до 200 000, в три раза меньше клиентов в категории В с доходом в диапазоне от 200 001 до 1 000 000. Категория D представлена 349 заемщиками.\n",
    "\n",
    "Наименьшее количество заемщиков представлено в крайних категориях А и Е: с доходом более 1 000 000 - 25 заемщиков, менее 30 000 - 22 заемщика."
   ]
  },
  {
   "cell_type": "markdown",
   "id": "559c7dd8-c6a6-4553-86a5-39cc38f7f468",
   "metadata": {},
   "source": [
    "Далее нам необходимо изучить непосредственно взаимосвязь между уровнем дохода заемщика и возвратом кредита в срок.\n",
    "\n",
    "В данном случае необходимо воспользоваться информацией из столбцов **`total_income_category`** и **`debt`**.\n",
    "\n",
    "Воспользуемся двумя методами - **`groupby()`** и **`sum()`**, а также проведем сортировку методом **`sort_values()`**:"
   ]
  },
  {
   "cell_type": "code",
   "execution_count": 30,
   "id": "70e8beed-a006-4444-a976-7fe5a1dbcfdc",
   "metadata": {},
   "outputs": [
    {
     "data": {
      "text/plain": [
       "total_income_category\n",
       "C    1353\n",
       "B     354\n",
       "D      21\n",
       "A       2\n",
       "E       2\n",
       "Name: debt, dtype: int64"
      ]
     },
     "execution_count": 30,
     "metadata": {},
     "output_type": "execute_result"
    }
   ],
   "source": [
    "data.groupby('total_income_category')['debt'].sum().sort_values(ascending=False)"
   ]
  },
  {
   "cell_type": "markdown",
   "id": "6afb9809-aab8-4b18-8299-d165ca66585b",
   "metadata": {},
   "source": [
    "Аналогично предыдущим шагам рассчитаем доли должников в каждой группе.\n",
    "\n",
    "Для этого разделим количество должников на общее количество заемщиков с учетом группировки по уровню дохода.\n",
    "\n",
    "Для наглядности отсортируем в порядке возрастания доли должников с помощью метода **`sort_values()`**:"
   ]
  },
  {
   "cell_type": "code",
   "execution_count": 31,
   "id": "85c61a10-2b89-4ede-9da3-c0955eaa8884",
   "metadata": {},
   "outputs": [
    {
     "data": {
      "text/plain": [
       "total_income_category\n",
       "D    0.060172\n",
       "B    0.070602\n",
       "A    0.080000\n",
       "C    0.084982\n",
       "E    0.090909\n",
       "dtype: float64"
      ]
     },
     "execution_count": 31,
     "metadata": {},
     "output_type": "execute_result"
    }
   ],
   "source": [
    "# в данном случае создадим переменную для дальнейшей сортировки результатов\n",
    "income_debt = data.groupby('total_income_category')['debt'].sum()/data.groupby('total_income_category')['total_income_category'].count()\n",
    "income_debt.sort_values()"
   ]
  },
  {
   "cell_type": "markdown",
   "id": "e5a8a4d5-f2ca-4dd8-8361-3d4e02475b43",
   "metadata": {},
   "source": [
    "Для более комфортного восприятия полученных результатов представим их в сводной таблице и визуализируем.\n",
    "\n",
    "Передадим функции **``debt_pivot``** датафрейм **``data``** и признак - в данном случае, уровень дохода заемщика **``total_income_category``**."
   ]
  },
  {
   "cell_type": "code",
   "execution_count": 32,
   "id": "4e84ec3c-79b2-4303-b9ce-76a8dbb2eb91",
   "metadata": {},
   "outputs": [
    {
     "data": {
      "text/html": [
       "<div>\n",
       "<style scoped>\n",
       "    .dataframe tbody tr th:only-of-type {\n",
       "        vertical-align: middle;\n",
       "    }\n",
       "\n",
       "    .dataframe tbody tr th {\n",
       "        vertical-align: top;\n",
       "    }\n",
       "\n",
       "    .dataframe thead th {\n",
       "        text-align: right;\n",
       "    }\n",
       "</style>\n",
       "<table border=\"1\" class=\"dataframe\">\n",
       "  <thead>\n",
       "    <tr style=\"text-align: right;\">\n",
       "      <th></th>\n",
       "      <th>total_income_category</th>\n",
       "      <th>Всего кредитополучателей</th>\n",
       "      <th>Всего должников</th>\n",
       "      <th>Доля должников</th>\n",
       "    </tr>\n",
       "  </thead>\n",
       "  <tbody>\n",
       "    <tr>\n",
       "      <th>4</th>\n",
       "      <td>E</td>\n",
       "      <td>22</td>\n",
       "      <td>2</td>\n",
       "      <td>0.090909</td>\n",
       "    </tr>\n",
       "    <tr>\n",
       "      <th>2</th>\n",
       "      <td>C</td>\n",
       "      <td>15921</td>\n",
       "      <td>1353</td>\n",
       "      <td>0.084982</td>\n",
       "    </tr>\n",
       "    <tr>\n",
       "      <th>0</th>\n",
       "      <td>A</td>\n",
       "      <td>25</td>\n",
       "      <td>2</td>\n",
       "      <td>0.080000</td>\n",
       "    </tr>\n",
       "    <tr>\n",
       "      <th>1</th>\n",
       "      <td>B</td>\n",
       "      <td>5014</td>\n",
       "      <td>354</td>\n",
       "      <td>0.070602</td>\n",
       "    </tr>\n",
       "    <tr>\n",
       "      <th>3</th>\n",
       "      <td>D</td>\n",
       "      <td>349</td>\n",
       "      <td>21</td>\n",
       "      <td>0.060172</td>\n",
       "    </tr>\n",
       "  </tbody>\n",
       "</table>\n",
       "</div>"
      ],
      "text/plain": [
       "  total_income_category  Всего кредитополучателей  Всего должников  \\\n",
       "4                     E                        22                2   \n",
       "2                     C                     15921             1353   \n",
       "0                     A                        25                2   \n",
       "1                     B                      5014              354   \n",
       "3                     D                       349               21   \n",
       "\n",
       "   Доля должников  \n",
       "4        0.090909  \n",
       "2        0.084982  \n",
       "0        0.080000  \n",
       "1        0.070602  \n",
       "3        0.060172  "
      ]
     },
     "metadata": {},
     "output_type": "display_data"
    },
    {
     "data": {
      "image/png": "[encoded data removed]"
     },
     "metadata": {},
     "output_type": "display_data"
    }
   ],
   "source": [
    "debt_pivot(data, 'total_income_category')"
   ]
  },
  {
   "cell_type": "markdown",
   "id": "d27106ef-add2-499c-a6a3-9b3fcd5b788e",
   "metadata": {},
   "source": [
    "Учитывая численный состав категорий заемщиков, важно отметить, что категории A, D, E - достаточно малочисленны, что влечет за собой существенную статистическую погрешность, поэтому корректный анализ данных категорий не представляется возможным.\n",
    "\n",
    "В связи с этим пригодных для анализа категорий остается две - B (с доходом выше среднего) и C (со средним уровнем дохода), т.к. данные группы представлены несколькими тысячами заемщиков.\n",
    "\n",
    "Доля должников среди заемщиков с уровнем дохода выше среднего составила 7%, в то время как доля должников среди клиентов со средним уровнем дохода - 8.5%. Разница в 1.5% может служить индикатором того, что **зависимость между уровнем дохода и возвратом кредита в срок есть - с ростом дохода, доля должников уменьшается, т.е. связь обратная (доход↑, долг ↓)**."
   ]
  },
  {
   "cell_type": "markdown",
   "id": "e8e2f4cd-4a83-406e-82ba-cbe1de25f9a8",
   "metadata": {},
   "source": [
    "**Вывод:** \n",
    "\n",
    "Категории дохода, представленные малым числом заемщиков, а именно A, D, и E, не рассматривались при анализе, т.к. для них нельзя гарантировать корректность выводов.\n",
    "\n",
    "**Нами были изучены категории с доходом выше среднего (B) и средним доходом (C). Среди первых доля должников составила 7%, в то время как у среднего класса - 8.5%. Существенная разница в 1.5% указывает на обратную связь между уровнем дохода и долей должников - с ростом дохода, доля недобросовестных заемщиков падает** (*или же прямую между уровнем дохода и возвратом в срок - выше доход, лучше возвращают*)."
   ]
  },
  {
   "cell_type": "markdown",
   "id": "b20746b9-4900-4117-8b47-1e9e81fc98f9",
   "metadata": {},
   "source": [
    "## 2.4. Зависимость между целью кредита и возвратом кредита в срок"
   ]
  },
  {
   "cell_type": "markdown",
   "id": "ff95ed14-ea0d-45e2-bb1b-8924b82e3a51",
   "metadata": {},
   "source": [
    "Прежде всего, проверим, сколько заемщиков с различным целями кредита представлено в выборке.\n",
    "\n",
    "Для этого воспользуемся методами **`groupby()`** и **`count()`** для столбца **`purpose_category`**, а также проведем сортировку методом **`sort_values()`**:"
   ]
  },
  {
   "cell_type": "code",
   "execution_count": 33,
   "id": "be7f10fd-41a0-4fe4-8922-24a97d92abf7",
   "metadata": {},
   "outputs": [
    {
     "data": {
      "text/plain": [
       "purpose_category\n",
       "операции с недвижимостью    10751\n",
       "операции с автомобилем       4279\n",
       "получение образования        3988\n",
       "проведение свадьбы           2313\n",
       "Name: purpose_category, dtype: int64"
      ]
     },
     "execution_count": 33,
     "metadata": {},
     "output_type": "execute_result"
    }
   ],
   "source": [
    "data.groupby('purpose_category')['purpose_category'].count().sort_values(ascending=False)"
   ]
  },
  {
   "cell_type": "markdown",
   "id": "b99be331-3114-4507-81dd-91091e139cf7",
   "metadata": {},
   "source": [
    "Больше всего кредитов берут на операции с недвижимостью - 10 751. Примерно равное количество кредитов взято на операции с автомобилем и получение образования - 4279 и 3988 соответственно. Меньше всего \"свадебных\" кредитов - 2313."
   ]
  },
  {
   "cell_type": "markdown",
   "id": "324ac2a2-c2b8-4c5f-9c58-99f018136ea4",
   "metadata": {},
   "source": [
    "Далее нам необходимо изучить непосредственно взаимосвязь между целью кредита заемщиков и возвратом кредита в срок.\n",
    "\n",
    "В данном случае необходимо воспользоваться информацией из столбцов **`purpose_category`** и **`debt`**.\n",
    "\n",
    "Воспользуемся двумя методами - **`groupby()`** и **`sum()`**, а также проведем сортировку методом **`sort_values()`**:"
   ]
  },
  {
   "cell_type": "code",
   "execution_count": 34,
   "id": "da914a0f-a831-49d6-b144-638826d7fced",
   "metadata": {},
   "outputs": [
    {
     "data": {
      "text/plain": [
       "purpose_category\n",
       "операции с недвижимостью    780\n",
       "операции с автомобилем      400\n",
       "получение образования       369\n",
       "проведение свадьбы          183\n",
       "Name: debt, dtype: int64"
      ]
     },
     "execution_count": 34,
     "metadata": {},
     "output_type": "execute_result"
    }
   ],
   "source": [
    "data.groupby('purpose_category')['debt'].sum().sort_values(ascending=False)"
   ]
  },
  {
   "cell_type": "markdown",
   "id": "29e23248-216c-409f-ae34-02cbd517b69e",
   "metadata": {},
   "source": [
    "Аналогично предыдущим шагам рассчитаем доли должников в каждой группе.\n",
    "\n",
    "Для этого разделим количество должников на общее количество заемщиков с учетом группировки по целям кредита.\n",
    "\n",
    "Для наглядности отсортируем в порядке возрастания доли должников с помощью метода **`sort_values()`**:"
   ]
  },
  {
   "cell_type": "code",
   "execution_count": 35,
   "id": "60abe733-ceb2-40ba-a0d1-8eabb5aab940",
   "metadata": {},
   "outputs": [
    {
     "data": {
      "text/plain": [
       "purpose_category\n",
       "операции с недвижимостью    0.072551\n",
       "проведение свадьбы          0.079118\n",
       "получение образования       0.092528\n",
       "операции с автомобилем      0.093480\n",
       "dtype: float64"
      ]
     },
     "execution_count": 35,
     "metadata": {},
     "output_type": "execute_result"
    }
   ],
   "source": [
    "purpose_debt = data.groupby('purpose_category')['debt'].sum()/data.groupby('purpose_category')['purpose_category'].count()\n",
    "purpose_debt.sort_values()"
   ]
  },
  {
   "cell_type": "markdown",
   "id": "45d22f60-cdf0-4d47-b406-965992d35695",
   "metadata": {},
   "source": [
    "Для более комфортного восприятия полученных результатов представим их в сводной таблице и визуализируем.\n",
    "\n",
    "Передадим функции **``debt_pivot``** датафрейм **``data``** и признак - в данном случае, цель кредита **``purpose_category``**."
   ]
  },
  {
   "cell_type": "code",
   "execution_count": 36,
   "id": "9eddfd8e-ea72-493d-b6e1-ee06e2458ab4",
   "metadata": {},
   "outputs": [
    {
     "data": {
      "text/html": [
       "<div>\n",
       "<style scoped>\n",
       "    .dataframe tbody tr th:only-of-type {\n",
       "        vertical-align: middle;\n",
       "    }\n",
       "\n",
       "    .dataframe tbody tr th {\n",
       "        vertical-align: top;\n",
       "    }\n",
       "\n",
       "    .dataframe thead th {\n",
       "        text-align: right;\n",
       "    }\n",
       "</style>\n",
       "<table border=\"1\" class=\"dataframe\">\n",
       "  <thead>\n",
       "    <tr style=\"text-align: right;\">\n",
       "      <th></th>\n",
       "      <th>purpose_category</th>\n",
       "      <th>Всего кредитополучателей</th>\n",
       "      <th>Всего должников</th>\n",
       "      <th>Доля должников</th>\n",
       "    </tr>\n",
       "  </thead>\n",
       "  <tbody>\n",
       "    <tr>\n",
       "      <th>0</th>\n",
       "      <td>операции с автомобилем</td>\n",
       "      <td>4279</td>\n",
       "      <td>400</td>\n",
       "      <td>0.093480</td>\n",
       "    </tr>\n",
       "    <tr>\n",
       "      <th>2</th>\n",
       "      <td>получение образования</td>\n",
       "      <td>3988</td>\n",
       "      <td>369</td>\n",
       "      <td>0.092528</td>\n",
       "    </tr>\n",
       "    <tr>\n",
       "      <th>3</th>\n",
       "      <td>проведение свадьбы</td>\n",
       "      <td>2313</td>\n",
       "      <td>183</td>\n",
       "      <td>0.079118</td>\n",
       "    </tr>\n",
       "    <tr>\n",
       "      <th>1</th>\n",
       "      <td>операции с недвижимостью</td>\n",
       "      <td>10751</td>\n",
       "      <td>780</td>\n",
       "      <td>0.072551</td>\n",
       "    </tr>\n",
       "  </tbody>\n",
       "</table>\n",
       "</div>"
      ],
      "text/plain": [
       "           purpose_category  Всего кредитополучателей  Всего должников  \\\n",
       "0    операции с автомобилем                      4279              400   \n",
       "2     получение образования                      3988              369   \n",
       "3        проведение свадьбы                      2313              183   \n",
       "1  операции с недвижимостью                     10751              780   \n",
       "\n",
       "   Доля должников  \n",
       "0        0.093480  \n",
       "2        0.092528  \n",
       "3        0.079118  \n",
       "1        0.072551  "
      ]
     },
     "metadata": {},
     "output_type": "display_data"
    },
    {
     "data": {
      "image/png": "[encoded data removed]"
     },
     "metadata": {},
     "output_type": "display_data"
    }
   ],
   "source": [
    "debt_pivot(data, 'purpose_category')"
   ]
  },
  {
   "cell_type": "markdown",
   "id": "2a7ad579-d0a0-4c82-8b0f-d77133acd0c1",
   "metadata": {},
   "source": [
    "Таким образом, можем заметить, что кредиты на недвижимость возвращают лучше всего - доля должников составляет 7.2%, чуть хуже выплачиваются \"свадебные\" кредиты с долей должников 7.9%.\n",
    "\n",
    "Хуже обстоят дела с \"образовательными\" и \"автомобильными\" кредитами - доли должников в группах с данными целями кредита составили 9.3%."
   ]
  },
  {
   "cell_type": "markdown",
   "id": "1b14a378-463d-485f-96ee-6f47ca40ec40",
   "metadata": {},
   "source": [
    "**Вывод:** \n",
    "\n",
    "По целям кредита наблюдаются четкие различия в проценте должников.\n",
    "\n",
    "**Больше всего берут и лучше всего возвращают кредиты на недвижимость (доля должников 7.2%)**. Кредиты на свадьбу также возвращают неплохо (7.9%).\n",
    "\n",
    "**Кредиты на операции с автомобилями и кредиты на образование (по 9.3%) доставляют больше проблем со своевременной выплатой, чем первые две группы**."
   ]
  },
  {
   "cell_type": "markdown",
   "id": "385b43b9-9bd6-4de5-9321-9877a19769dc",
   "metadata": {},
   "source": [
    "# Этап 3. Подведение итогов"
   ]
  },
  {
   "cell_type": "markdown",
   "id": "a291ebf6-ec03-4418-9884-626e0303eb43",
   "metadata": {},
   "source": [
    "Подведем итог проделанной работе.\n",
    "\n",
    "Заказчиком (кредитным отделом банка) было дано задание выявить взаимосвязь возврата кредита в срок от различных факторов - количества детей, семейного положения, уровня дохода и цели кредита.\n",
    "\n",
    "На этапе предобработки данных было выявлено наличие пропусков в столбцах с информацией о трудовом стаже **``days_employed``** и ежемесячном доходе **``total_income``**, а также отрицательные значения трудового стажа. Отрицательные значения были обработаны методом **``abs()``**, пропуски были заполнены медианными значениями по соответствующему типу занятости **``income_type``**. Помимо этого, были устранены аномальные значения в столбце **``children``**, содержащем информацию о количестве детей заемщика, путем удаления строк, содержащих такие значения. В столбце **``total_income``** данные были приведены к целочисленному типу **``int``** методом **``astype()``**. Неявные дубликаты в столбце **``education``** с информацией об образовании были устранены путем приведения всех значений к нижнему регистру методом **``str.lower()``**. Количество явных дубликатов во всем датафрейме составило 71, такие строки были устранены при помощи метода **``drop_duplicates()``**.\n",
    "\n",
    "Далее нами была проведена категоризация данных по уровню дохода **``total_income``** и целям кредита **``purpose``**. По уровню дохода клиенты были разделены на 5 последовательных категорий от A до E (где A - наибольший доход, E - наименьший). Среди целей кредита было выделено 4 категории: на получение образование, на операции с недвижимостью, на операции с автомобилем, на проведение свадьбы. Категоризация была проведена с помощью создания категоризирующей функции для каждого из факторов и создания новых столбцов с категориями в исходном датафрейме.\n",
    "\n",
    "Далее мы перешли к этапу анализа обработанных данных, который заключался в поиске взаимосвязей своевременного возврата кредита от различных характеристик заемщика и цели кредита.\n",
    "\n",
    "При группировке заемщиков по количеству детей было выявлено, что клиенты, не имеющие детей, оказались самыми добросовестными заемщиками, а среди семей с детьми наиболее надежными заемщиками являются семьи с 3-мя детьми. Семей с 5-ю детьми слишком мало в представленной выборке, поэтому они не учитывались при формулировке итоговых выводов.\n",
    "\n",
    "Изучая семейное положение заемщиков, выяснилось, что лучше всего возвращают кредиты люди, побывавшие в официальном браке (вдовы/вдовцы, в разводе, в браке сейчас). Заемщики, не имеющие такого опыта (в гражданском браке, либо неженатые/незамужние), оказались менее надежными.\n",
    "\n",
    "Что касается анализа по уровню дохода заемщиков, важным будет отметить, что категории дохода A, D, и E, представленные малым числом заемщиков, не рассматривались при анализе, потому что это могло повлечь за собой некорректность выводов и искажение действительности. Нами были изучены категории с доходом выше среднего (B) и средним доходом (C). У первой группы клиентов доля должников составила 7%, в то время как у заемщиков-представителей среднего класса - 8.5%. Существенная разница в 1.5% указывает на обратную связь между уровнем дохода и долей должников - с ростом дохода, доля недобросовестных заемщиков падает.\n",
    "\n",
    "При исследовании взаимосвязи с целями кредита, было определено, что самыми популярными являются кредиты на недвижимость, причем возвращают их тоже лучше всего. Кредиты на свадьбу также отличаются хорошей своевременностью выплат на фоне других категорий. \"Автомобильные\" и \"образовательные\" кредиты - наиболее проблемные.\n",
    "\n",
    "Портрет \"идеального\" заемщика для банка на основе изученных взаимосвязей с перечисленными выше факторами выглядит так:\n",
    "- не имеет детей;\n",
    "- состоит/состоял в официальном браке;\n",
    "- имеет ежемесячный доход выше среднего (200 000 - 1 000 000);\n",
    "- берет кредит на недвижимость.\n",
    "\n",
    "В противовес этому, портрет наиболее рискованного для банка заемщика выглядит следующим образом:\n",
    "- имеет 1-го, 2-х или 4-х детей;\n",
    "- не состоит/не состоял в официальном браке;\n",
    "- имеет ежемесячный доход менее 200 000;\n",
    "- берет кредит на получение образования или операции с автомобилем.\n",
    "\n",
    "Помимо представленного описания портретов идеального/рискованного заемщика, в качестве рекомендаций банку-заказчику прежде всего хочется отметить стандартизацию получения информации о заемщиках - мы понимаем, что ни технический, ни человеческий фактор на 100% устранить невозможно, однако стандартизированная система заполнения заявлений/анкетирования/предоставления данных о клиенте смогли бы минимизировать проблемы пропусков/дубликатов. "
   ]
  }
 ],
 "metadata": {
  "kernelspec": {
   "display_name": "Python 3 (ipykernel)",
   "language": "python",
   "name": "python3"
  },
  "language_info": {
   "codemirror_mode": {
    "name": "ipython",
    "version": 3
   },
   "file_extension": ".py",
   "mimetype": "text/x-python",
   "name": "python",
   "nbconvert_exporter": "python",
   "pygments_lexer": "ipython3",
   "version": "3.9.13"
  }
 },
 "nbformat": 4,
 "nbformat_minor": 5
}
